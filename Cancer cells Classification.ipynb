{
 "cells": [
  {
   "cell_type": "code",
   "execution_count": 1,
   "metadata": {},
   "outputs": [],
   "source": [
    "import os\n",
    "import tensorflow as tf\n",
    "import pandas as pd\n",
    "import numpy as np\n",
    "import matplotlib.pyplot as plt\n",
    "import seaborn as sns\n",
    "from matplotlib.image import imread"
   ]
  },
  {
   "cell_type": "code",
   "execution_count": 2,
   "metadata": {},
   "outputs": [],
   "source": [
    "os.environ[\"TF_FORCE_GPU_ALLOW_GROWTH\"]= \"true\"\n",
    "#os.environ['TF_XLA_FLAGS'] = '--tf_xla_enable_xla_devices'"
   ]
  },
  {
   "cell_type": "code",
   "execution_count": 3,
   "metadata": {},
   "outputs": [
    {
     "data": {
      "text/plain": [
       "['parasitized', 'uninfected']"
      ]
     },
     "execution_count": 3,
     "metadata": {},
     "output_type": "execute_result"
    }
   ],
   "source": [
    "data_dir = \"D:\\\\Data\\\\cell_images\"\n",
    "os.listdir(data_dir)\n",
    "\n",
    "train_path = data_dir+\"\\\\train\\\\\"\n",
    "test_path = data_dir+\"\\\\test\\\\\"\n",
    "\n",
    "os.listdir(train_path)\n",
    "os.listdir(test_path)"
   ]
  },
  {
   "cell_type": "code",
   "execution_count": 4,
   "metadata": {},
   "outputs": [],
   "source": [
    "\n",
    "os.listdir(train_path+\"uninfected\")[1]\n",
    "\n",
    "un_cell = train_path+\"uninfected\\\\\"+\"C100P61ThinF_IMG_20150918_144104_cell_131.png\""
   ]
  },
  {
   "cell_type": "code",
   "execution_count": 5,
   "metadata": {},
   "outputs": [
    {
     "data": {
      "image/png": "[encoded data removed]",
      "text/plain": [
       "<Figure size 432x288 with 1 Axes>"
      ]
     },
     "metadata": {
      "needs_background": "light"
     },
     "output_type": "display_data"
    }
   ],
   "source": [
    "\n",
    "dim1=[]\n",
    "dim2=[]\n",
    "\n",
    "for image_filename in os.listdir(test_path+\"\\\\uninfected\"):\n",
    "    img = imread(test_path+\"uninfected\\\\\"+image_filename)\n",
    "    d1,d2,colors = img.shape\n",
    "    dim1.append(d1)\n",
    "    dim2.append(d2)\n",
    "    \n",
    "plt.scatter(x=dim1, y=dim2)    \n",
    "\n",
    "np.mean(dim1)\n",
    "np.mean(dim2)    \n",
    "\n",
    "image_shape = (131, 131, 3)\n"
   ]
  },
  {
   "cell_type": "code",
   "execution_count": 6,
   "metadata": {},
   "outputs": [
    {
     "name": "stdout",
     "output_type": "stream",
     "text": [
      "Found 24958 images belonging to 2 classes.\n",
      "Found 2600 images belonging to 2 classes.\n"
     ]
    },
    {
     "data": {
      "text/plain": [
       "<tensorflow.python.keras.preprocessing.image.DirectoryIterator at 0x25446edb7c0>"
      ]
     },
     "execution_count": 6,
     "metadata": {},
     "output_type": "execute_result"
    }
   ],
   "source": [
    "\n",
    "from tensorflow.keras.preprocessing.image import ImageDataGenerator\n",
    "\n",
    "#help(ImageDataGenerator())\n",
    "\n",
    "image_gen = ImageDataGenerator(rotation_range=360,\n",
    "                               width_shift_range=0.1,\n",
    "                               height_shift_range=0.1,\n",
    "                               shear_range=0.1,\n",
    "                               zoom_range = 0.1,\n",
    "                               horizontal_flip=True,\n",
    "                               fill_mode=\"nearest\"\n",
    "                               )\n",
    "\n",
    "image_gen.flow_from_directory(train_path)\n",
    "image_gen.flow_from_directory(test_path)\n"
   ]
  },
  {
   "cell_type": "code",
   "execution_count": 7,
   "metadata": {},
   "outputs": [],
   "source": [
    "\n",
    "from tensorflow.keras.models import Sequential\n",
    "model = Sequential()\n",
    "\n",
    "from tensorflow.keras.layers import Dense, MaxPool2D, Conv2D, Dropout, Flatten"
   ]
  },
  {
   "cell_type": "code",
   "execution_count": 8,
   "metadata": {},
   "outputs": [],
   "source": [
    "\n",
    "model.add(Conv2D(filters = 32, kernel_size = (4,4), input_shape = image_shape,\n",
    "                 activation=\"relu\"))\n",
    "model.add(MaxPool2D(pool_size=(4,4)))\n",
    "\n",
    "model.add(Conv2D(filters = 64, kernel_size = (4,4), input_shape = image_shape,\n",
    "                 activation=\"relu\"))\n",
    "model.add(MaxPool2D(pool_size=(4,4)))\n",
    "\n",
    "\n",
    "model.add(Conv2D(filters = 128, kernel_size = (4,4), input_shape = image_shape,\n",
    "                 activation=\"relu\"))\n",
    "model.add(MaxPool2D(pool_size=(4,4)))\n",
    "\n"
   ]
  },
  {
   "cell_type": "code",
   "execution_count": 9,
   "metadata": {},
   "outputs": [
    {
     "name": "stdout",
     "output_type": "stream",
     "text": [
      "Model: \"sequential\"\n",
      "_________________________________________________________________\n",
      "Layer (type)                 Output Shape              Param #   \n",
      "=================================================================\n",
      "conv2d (Conv2D)              (None, 128, 128, 32)      1568      \n",
      "_________________________________________________________________\n",
      "max_pooling2d (MaxPooling2D) (None, 32, 32, 32)        0         \n",
      "_________________________________________________________________\n",
      "conv2d_1 (Conv2D)            (None, 29, 29, 64)        32832     \n",
      "_________________________________________________________________\n",
      "max_pooling2d_1 (MaxPooling2 (None, 7, 7, 64)          0         \n",
      "_________________________________________________________________\n",
      "conv2d_2 (Conv2D)            (None, 4, 4, 128)         131200    \n",
      "_________________________________________________________________\n",
      "max_pooling2d_2 (MaxPooling2 (None, 1, 1, 128)         0         \n",
      "_________________________________________________________________\n",
      "flatten (Flatten)            (None, 128)               0         \n",
      "_________________________________________________________________\n",
      "dense (Dense)                (None, 256)               33024     \n",
      "_________________________________________________________________\n",
      "dropout (Dropout)            (None, 256)               0         \n",
      "_________________________________________________________________\n",
      "dense_1 (Dense)              (None, 1)                 257       \n",
      "=================================================================\n",
      "Total params: 198,881\n",
      "Trainable params: 198,881\n",
      "Non-trainable params: 0\n",
      "_________________________________________________________________\n"
     ]
    }
   ],
   "source": [
    "model.add(Flatten())\n",
    "\n",
    "model.add(Dense(256, activation=\"relu\"))\n",
    "model.add(Dropout(0.5))\n",
    "\n",
    "model.add(Dense(1, activation=\"sigmoid\"))\n",
    "\n",
    "model.compile(loss=\"binary_crossentropy\", optimizer= \"adam\",\n",
    "              metrics=[\"accuracy\"])\n",
    "\n",
    "model.summary()"
   ]
  },
  {
   "cell_type": "code",
   "execution_count": 10,
   "metadata": {},
   "outputs": [],
   "source": [
    "from tensorflow.keras.callbacks import EarlyStopping\n",
    "early = EarlyStopping(monitor=\"val_loss\", patience=2)\n",
    "\n",
    "batch_size = 256"
   ]
  },
  {
   "cell_type": "code",
   "execution_count": 11,
   "metadata": {},
   "outputs": [
    {
     "name": "stdout",
     "output_type": "stream",
     "text": [
      "Found 24958 images belonging to 2 classes.\n",
      "Found 2600 images belonging to 2 classes.\n"
     ]
    }
   ],
   "source": [
    "\n",
    "train_image_gen = image_gen.flow_from_directory(train_path, target_size=image_shape[:2],\n",
    "                                                color_mode=\"rgb\", batch_size=batch_size,\n",
    "                                                class_mode=\"binary\")\n",
    "\n",
    "\n",
    "test_image_gen =  image_gen.flow_from_directory(test_path, target_size=image_shape[:2],\n",
    "                                                color_mode=\"rgb\", batch_size=batch_size,\n",
    "                                                class_mode=\"binary\", shuffle=False)"
   ]
  },
  {
   "cell_type": "code",
   "execution_count": 12,
   "metadata": {},
   "outputs": [
    {
     "data": {
      "text/plain": [
       "{'parasitized': 0, 'uninfected': 1}"
      ]
     },
     "execution_count": 12,
     "metadata": {},
     "output_type": "execute_result"
    }
   ],
   "source": [
    "train_image_gen.class_indices\n",
    "test_image_gen.class_indices"
   ]
  },
  {
   "cell_type": "code",
   "execution_count": 13,
   "metadata": {},
   "outputs": [
    {
     "name": "stdout",
     "output_type": "stream",
     "text": [
      "Epoch 1/20\n",
      "98/98 [==============================] - 163s 2s/step - loss: 3.4551 - accuracy: 0.5286 - val_loss: 0.6272 - val_accuracy: 0.6535\n",
      "Epoch 2/20\n",
      "98/98 [==============================] - 107s 1s/step - loss: 0.4857 - accuracy: 0.7670 - val_loss: 0.2280 - val_accuracy: 0.9250\n",
      "Epoch 3/20\n",
      "98/98 [==============================] - 103s 1s/step - loss: 0.2284 - accuracy: 0.9240 - val_loss: 0.2046 - val_accuracy: 0.9331\n",
      "Epoch 4/20\n",
      "98/98 [==============================] - 101s 1s/step - loss: 0.1970 - accuracy: 0.9350 - val_loss: 0.2029 - val_accuracy: 0.9358\n",
      "Epoch 5/20\n",
      "98/98 [==============================] - 101s 1s/step - loss: 0.1968 - accuracy: 0.9357 - val_loss: 0.1814 - val_accuracy: 0.9373\n",
      "Epoch 6/20\n",
      "98/98 [==============================] - 105s 1s/step - loss: 0.1898 - accuracy: 0.9387 - val_loss: 0.1805 - val_accuracy: 0.9392\n",
      "Epoch 7/20\n",
      "98/98 [==============================] - 101s 1s/step - loss: 0.1694 - accuracy: 0.9447 - val_loss: 0.1649 - val_accuracy: 0.9419\n",
      "Epoch 8/20\n",
      "98/98 [==============================] - 101s 1s/step - loss: 0.1805 - accuracy: 0.9416 - val_loss: 0.1638 - val_accuracy: 0.9454\n",
      "Epoch 9/20\n",
      "98/98 [==============================] - 102s 1s/step - loss: 0.1559 - accuracy: 0.9479 - val_loss: 0.1681 - val_accuracy: 0.9442\n"
     ]
    }
   ],
   "source": [
    "results = model.fit(train_image_gen, epochs=20, validation_data=test_image_gen,callbacks=[EarlyStopping()])"
   ]
  },
  {
   "cell_type": "code",
   "execution_count": 17,
   "metadata": {},
   "outputs": [
    {
     "data": {
      "text/plain": [
       "<AxesSubplot:>"
      ]
     },
     "execution_count": 17,
     "metadata": {},
     "output_type": "execute_result"
    },
    {
     "data": {
      "image/png": "[encoded data removed]",
      "text/plain": [
       "<Figure size 432x288 with 1 Axes>"
      ]
     },
     "metadata": {
      "needs_background": "light"
     },
     "output_type": "display_data"
    }
   ],
   "source": [
    "history = pd.DataFrame(model.history.history)\n",
    "history[[\"loss\", \"val_loss\"]].plot()"
   ]
  },
  {
   "cell_type": "code",
   "execution_count": 18,
   "metadata": {},
   "outputs": [
    {
     "name": "stdout",
     "output_type": "stream",
     "text": [
      "11/11 [==============================] - 10s 866ms/step - loss: 0.1677 - accuracy: 0.9412\n"
     ]
    },
    {
     "data": {
      "text/plain": [
       "[0.1677381843328476, 0.9411538243293762]"
      ]
     },
     "execution_count": 18,
     "metadata": {},
     "output_type": "execute_result"
    }
   ],
   "source": [
    "model.evaluate(test_image_gen)"
   ]
  },
  {
   "cell_type": "code",
   "execution_count": 21,
   "metadata": {},
   "outputs": [],
   "source": [
    "pred = model.predict(test_image_gen)"
   ]
  },
  {
   "cell_type": "code",
   "execution_count": 22,
   "metadata": {},
   "outputs": [],
   "source": [
    "prediction = pred > 0.5"
   ]
  },
  {
   "cell_type": "code",
   "execution_count": 23,
   "metadata": {},
   "outputs": [
    {
     "name": "stdout",
     "output_type": "stream",
     "text": [
      "              precision    recall  f1-score   support\n",
      "\n",
      "           0       0.96      0.92      0.94      1300\n",
      "           1       0.92      0.96      0.94      1300\n",
      "\n",
      "    accuracy                           0.94      2600\n",
      "   macro avg       0.94      0.94      0.94      2600\n",
      "weighted avg       0.94      0.94      0.94      2600\n",
      "\n"
     ]
    }
   ],
   "source": [
    "from sklearn.metrics import confusion_matrix, classification_report\n",
    "\n",
    "print(classification_report(test_image_gen.classes, prediction))"
   ]
  },
  {
   "cell_type": "code",
   "execution_count": 25,
   "metadata": {},
   "outputs": [
    {
     "name": "stdout",
     "output_type": "stream",
     "text": [
      "[[1195  105]\n",
      " [  54 1246]]\n"
     ]
    }
   ],
   "source": [
    "print(confusion_matrix(test_image_gen.classes , prediction))"
   ]
  },
  {
   "cell_type": "code",
   "execution_count": 43,
   "metadata": {},
   "outputs": [],
   "source": [
    "from tensorflow.keras.preprocessing import image\n",
    "my_image = image.load_img(un_cell, target_size = image_shape)"
   ]
  },
  {
   "cell_type": "code",
   "execution_count": 44,
   "metadata": {},
   "outputs": [
    {
     "data": {
      "image/png": "[encoded data removed]",
      "text/plain": [
       "<PIL.Image.Image image mode=RGB size=131x131 at 0x2541FD95F70>"
      ]
     },
     "execution_count": 44,
     "metadata": {},
     "output_type": "execute_result"
    }
   ],
   "source": [
    "my_image"
   ]
  },
  {
   "cell_type": "code",
   "execution_count": 45,
   "metadata": {},
   "outputs": [],
   "source": [
    "my_img_arr = image.img_to_array(my_image)"
   ]
  },
  {
   "cell_type": "code",
   "execution_count": 46,
   "metadata": {},
   "outputs": [
    {
     "data": {
      "text/plain": [
       "(131, 131, 3)"
      ]
     },
     "execution_count": 46,
     "metadata": {},
     "output_type": "execute_result"
    }
   ],
   "source": [
    "my_img_arr.shape"
   ]
  },
  {
   "cell_type": "code",
   "execution_count": 47,
   "metadata": {},
   "outputs": [],
   "source": [
    "my_img_arr = np.expand_dims(my_img_arr, axis = 0)"
   ]
  },
  {
   "cell_type": "code",
   "execution_count": 48,
   "metadata": {},
   "outputs": [
    {
     "data": {
      "text/plain": [
       "(1, 131, 131, 3)"
      ]
     },
     "execution_count": 48,
     "metadata": {},
     "output_type": "execute_result"
    }
   ],
   "source": [
    "my_img_arr.shape"
   ]
  },
  {
   "cell_type": "code",
   "execution_count": 49,
   "metadata": {},
   "outputs": [
    {
     "data": {
      "text/plain": [
       "array([[0.98456687]], dtype=float32)"
      ]
     },
     "execution_count": 49,
     "metadata": {},
     "output_type": "execute_result"
    }
   ],
   "source": [
    "model.predict(my_img_arr)"
   ]
  }
 ],
 "metadata": {
  "kernelspec": {
   "display_name": "Python 3",
   "language": "python",
   "name": "python3"
  },
  "language_info": {
   "codemirror_mode": {
    "name": "ipython",
    "version": 3
   },
   "file_extension": ".py",
   "mimetype": "text/x-python",
   "name": "python",
   "nbconvert_exporter": "python",
   "pygments_lexer": "ipython3",
   "version": "3.8.5"
  }
 },
 "nbformat": 4,
 "nbformat_minor": 5
}
